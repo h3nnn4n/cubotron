{
 "cells": [
  {
   "cell_type": "markdown",
   "id": "federal-single",
   "metadata": {},
   "source": [
    "# Using solve context to reduce memory allocation overhead"
   ]
  },
  {
   "cell_type": "markdown",
   "id": "turned-minister",
   "metadata": {},
   "source": [
    "## Fast bulk solve\n",
    "\n",
    "The test protocol consists of solving 100 sample cubes and as many random cubes as possible in 30 seconds. Two warmup runs were ran before the final sampling run. Around 1100~1400 samples were collected in total."
   ]
  },
  {
   "cell_type": "code",
   "execution_count": null,
   "id": "agricultural-coach",
   "metadata": {},
   "outputs": [],
   "source": [
    "%matplotlib inline\n",
    "import numpy as np\n",
    "import matplotlib.pyplot as plt\n",
    "import pandas as pd\n",
    "import seaborn as sns\n",
    "from scipy import stats"
   ]
  },
  {
   "cell_type": "code",
   "execution_count": null,
   "id": "nuclear-huntington",
   "metadata": {},
   "outputs": [],
   "source": [
    "sns.set(rc={'figure.figsize': (14, 8)})\n",
    "sns.set_theme(style=\"ticks\", palette=\"pastel\")"
   ]
  },
  {
   "cell_type": "code",
   "execution_count": null,
   "id": "oriental-smooth",
   "metadata": {},
   "outputs": [],
   "source": [
    "df_before = pd.read_csv(\"data/solve_context/fast_solves/before.csv\") \n",
    "df_before.describe()"
   ]
  },
  {
   "cell_type": "code",
   "execution_count": null,
   "id": "fluid-maine",
   "metadata": {},
   "outputs": [],
   "source": [
    "df_after = pd.read_csv(\"data/solve_context/fast_solves/after.csv\") \n",
    "df_after.describe()"
   ]
  },
  {
   "cell_type": "code",
   "execution_count": null,
   "id": "shaped-julian",
   "metadata": {},
   "outputs": [],
   "source": [
    "data = [df_before[\"solve_time\"], df_after[\"solve_time\"]]\n",
    "headers = [\"before_solve_time\", \"after_solve_time\"]\n",
    "df = pd.concat(data, axis=1, keys=headers)\n",
    "df.describe()"
   ]
  },
  {
   "cell_type": "code",
   "execution_count": null,
   "id": "suitable-humidity",
   "metadata": {},
   "outputs": [],
   "source": [
    "ax = sns.boxplot(data=df, showfliers=False)\n",
    "ax.set(\n",
    "    title=\"Solve Time comparison\",\n",
    "    # xlabel='Solve Time', \n",
    "    ylabel='Solve Time'\n",
    ")"
   ]
  },
  {
   "cell_type": "code",
   "execution_count": null,
   "id": "discrete-donna",
   "metadata": {},
   "outputs": [],
   "source": [
    "stats.mannwhitneyu(df_before[\"solve_time\"], df_after[\"solve_time\"])"
   ]
  },
  {
   "cell_type": "markdown",
   "id": "violent-bangladesh",
   "metadata": {},
   "source": [
    "## Length limited solve\n",
    "\n",
    "The test protocol consists of solving 100 sample cubes with a solve length limited to 21 moves. One warmup runs was ran before the final sampling run. 100 samples were collected in total, for each case."
   ]
  },
  {
   "cell_type": "code",
   "execution_count": null,
   "id": "therapeutic-pixel",
   "metadata": {},
   "outputs": [],
   "source": [
    "df_before = pd.read_csv(\"data/solve_context/slow_solves_21/before.csv\") \n",
    "df_before.describe()"
   ]
  },
  {
   "cell_type": "code",
   "execution_count": null,
   "id": "satisfactory-mumbai",
   "metadata": {},
   "outputs": [],
   "source": [
    "df_after = pd.read_csv(\"data/solve_context/slow_solves_21/after.csv\") \n",
    "df_after.describe()"
   ]
  },
  {
   "cell_type": "code",
   "execution_count": null,
   "id": "acoustic-story",
   "metadata": {},
   "outputs": [],
   "source": [
    "data = [df_before[\"solve_time\"], df_after[\"solve_time\"]]\n",
    "headers = [\"before_solve_time\", \"after_solve_time\"]\n",
    "df = pd.concat(data, axis=1, keys=headers)\n",
    "df.describe()"
   ]
  },
  {
   "cell_type": "code",
   "execution_count": null,
   "id": "prerequisite-accreditation",
   "metadata": {},
   "outputs": [],
   "source": [
    "ax = sns.boxplot(data=df, showfliers=False)\n",
    "ax.set(\n",
    "    title=\"Solve Time comparison\",\n",
    "    # xlabel='Solve Time', \n",
    "    ylabel='Solve Time'\n",
    ")"
   ]
  },
  {
   "cell_type": "code",
   "execution_count": null,
   "id": "expressed-upset",
   "metadata": {},
   "outputs": [],
   "source": [
    "stats.mannwhitneyu(df_before[\"solve_time\"], df_after[\"solve_time\"])"
   ]
  },
  {
   "cell_type": "code",
   "execution_count": null,
   "id": "bibliographic-impression",
   "metadata": {},
   "outputs": [],
   "source": []
  }
 ],
 "metadata": {
  "kernelspec": {
   "display_name": "Python 3",
   "language": "python",
   "name": "python3"
  },
  "language_info": {
   "codemirror_mode": {
    "name": "ipython",
    "version": 3
   },
   "file_extension": ".py",
   "mimetype": "text/x-python",
   "name": "python",
   "nbconvert_exporter": "python",
   "pygments_lexer": "ipython3",
   "version": "3.7.9"
  }
 },
 "nbformat": 4,
 "nbformat_minor": 5
}
