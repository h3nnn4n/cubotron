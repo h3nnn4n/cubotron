{
 "cells": [
  {
   "cell_type": "markdown",
   "id": "federal-single",
   "metadata": {},
   "source": [
    "# UD6 vs UD7 phase2 performance comparison\n",
    "\n",
    "The test protocol consists of solving the 100 sample cubes and as many cubes as possible in 10 seconds. Two warmup runs were ran before the final sampling run. About 350 ~ 450 samples were collected in total."
   ]
  },
  {
   "cell_type": "code",
   "execution_count": null,
   "id": "agricultural-coach",
   "metadata": {},
   "outputs": [],
   "source": [
    "%matplotlib inline\n",
    "import numpy as np\n",
    "import matplotlib.pyplot as plt\n",
    "import pandas as pd\n",
    "import seaborn as sns\n",
    "from scipy import stats"
   ]
  },
  {
   "cell_type": "code",
   "execution_count": null,
   "id": "nuclear-huntington",
   "metadata": {},
   "outputs": [],
   "source": [
    "sns.set(rc={'figure.figsize': (14, 8)})\n",
    "sns.set_theme(style=\"ticks\", palette=\"pastel\")"
   ]
  },
  {
   "cell_type": "code",
   "execution_count": null,
   "id": "oriental-smooth",
   "metadata": {},
   "outputs": [],
   "source": [
    "df_ud6 = pd.read_csv(\"data/UD6_vs_UD7/ud6_benchmarks.csv\") \n",
    "df_ud6.describe()"
   ]
  },
  {
   "cell_type": "code",
   "execution_count": null,
   "id": "fluid-maine",
   "metadata": {},
   "outputs": [],
   "source": [
    "df_ud7 = pd.read_csv(\"data/UD6_vs_UD7/ud7_benchmarks.csv\") \n",
    "df_ud7.describe()"
   ]
  },
  {
   "cell_type": "code",
   "execution_count": null,
   "id": "shaped-julian",
   "metadata": {},
   "outputs": [],
   "source": [
    "data = [df_ud6[\"phase2_solve_time\"], df_ud7[\"phase2_solve_time\"]]\n",
    "headers = [\"ud6_phase2_solve_time\", \"ud7_phase2_solve_time\"]\n",
    "df = pd.concat(data, axis=1, keys=headers)\n",
    "df.describe()"
   ]
  },
  {
   "cell_type": "code",
   "execution_count": null,
   "id": "suitable-humidity",
   "metadata": {},
   "outputs": [],
   "source": [
    "ax = sns.boxplot(data=df, showfliers=False)\n",
    "ax.set(\n",
    "    title=\"Solution Length, per phase\",\n",
    "    xlabel='Solution Length', \n",
    "    ylabel='Length'\n",
    ")"
   ]
  },
  {
   "cell_type": "code",
   "execution_count": null,
   "id": "discrete-donna",
   "metadata": {},
   "outputs": [],
   "source": [
    "stats.mannwhitneyu(df_ud6[\"phase2_solve_time\"], df_ud7[\"phase2_solve_time\"])"
   ]
  },
  {
   "cell_type": "code",
   "execution_count": null,
   "id": "arbitrary-footage",
   "metadata": {},
   "outputs": [],
   "source": []
  }
 ],
 "metadata": {
  "kernelspec": {
   "display_name": "Python 3",
   "language": "python",
   "name": "python3"
  },
  "language_info": {
   "codemirror_mode": {
    "name": "ipython",
    "version": 3
   },
   "file_extension": ".py",
   "mimetype": "text/x-python",
   "name": "python",
   "nbconvert_exporter": "python",
   "pygments_lexer": "ipython3",
   "version": "3.7.9"
  }
 },
 "nbformat": 4,
 "nbformat_minor": 5
}
