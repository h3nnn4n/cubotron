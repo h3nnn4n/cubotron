{
 "cells": [
  {
   "cell_type": "code",
   "execution_count": null,
   "id": "restricted-removal",
   "metadata": {},
   "outputs": [],
   "source": [
    "%matplotlib inline\n",
    "import numpy as np\n",
    "import matplotlib.pyplot as plt\n",
    "import pandas as pd\n",
    "import seaborn as sns"
   ]
  },
  {
   "cell_type": "code",
   "execution_count": null,
   "id": "supported-waterproof",
   "metadata": {},
   "outputs": [],
   "source": [
    "df = pd.read_csv(\"../stats/log.csv\") \n",
    "df.describe()"
   ]
  },
  {
   "cell_type": "code",
   "execution_count": null,
   "id": "western-publicity",
   "metadata": {},
   "outputs": [],
   "source": [
    "sns.set(rc={'figure.figsize': (14, 8)})\n",
    "sns.set_theme(style=\"ticks\", palette=\"pastel\")"
   ]
  },
  {
   "cell_type": "code",
   "execution_count": null,
   "id": "aware-writing",
   "metadata": {},
   "outputs": [],
   "source": [
    "fig, axes = plt.subplots(1, 2)\n",
    "\n",
    "sns.boxplot(data=df[[\"phase1_solution_length\", \"phase2_solution_length\"]], ax=axes[0])\n",
    "axes[0].set(\n",
    "    title=\"Solution Length, per phase\",\n",
    "    xlabel='Move Count', \n",
    "    ylabel='Phase'\n",
    ")\n",
    "\n",
    "sns.histplot(data=df[[\"phase1_solution_length\", \"phase2_solution_length\"]], ax=axes[1])\n",
    "axes[1].set(\n",
    "    title=\"Solution Length, per phase\",\n",
    "    xlabel='Move Count', \n",
    "    ylabel='Phase'\n",
    ")\n",
    "\n",
    "sns.despine(offset=10, trim=True)"
   ]
  },
  {
   "cell_type": "code",
   "execution_count": null,
   "id": "civic-juice",
   "metadata": {},
   "outputs": [],
   "source": [
    "fig, axes = plt.subplots(1, 2)\n",
    "\n",
    "sns.boxplot(data=df[[\"phase2_move_count\"]], ax=axes[0])\n",
    "axes[0].set(\n",
    "    title=\"Solution Length, per phase\",\n",
    "    xlabel='Move Count', \n",
    "    ylabel='Phase'\n",
    ")\n",
    "\n",
    "sns.histplot(data=df[[\"phase2_move_count\"]], ax=axes[1])\n",
    "axes[1].set(\n",
    "    title=\"Solution Length, per phase\",\n",
    "    xlabel='Move Count', \n",
    "    ylabel='Phase'\n",
    ")\n",
    "\n",
    "sns.despine(offset=10, trim=True)"
   ]
  },
  {
   "cell_type": "code",
   "execution_count": null,
   "id": "collaborative-cradle",
   "metadata": {},
   "outputs": [],
   "source": []
  }
 ],
 "metadata": {
  "kernelspec": {
   "display_name": "Python 3",
   "language": "python",
   "name": "python3"
  },
  "language_info": {
   "codemirror_mode": {
    "name": "ipython",
    "version": 3
   },
   "file_extension": ".py",
   "mimetype": "text/x-python",
   "name": "python",
   "nbconvert_exporter": "python",
   "pygments_lexer": "ipython3",
   "version": "3.7.9"
  }
 },
 "nbformat": 4,
 "nbformat_minor": 5
}
